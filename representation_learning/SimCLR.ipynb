{
 "cells": [
  {
   "cell_type": "code",
   "execution_count": null,
   "metadata": {},
   "outputs": [],
   "source": [
    "# Representation Learning with SimCLR\n",
    "\n",
    "![](figures/simclr_framework.png)"
   ]
  },
  {
   "cell_type": "markdown",
   "metadata": {},
   "source": [
    "### Imports"
   ]
  },
  {
   "cell_type": "code",
   "execution_count": null,
   "metadata": {},
   "outputs": [],
   "source": [
    "import torch\n",
    "import random\n",
    "import torch.nn.functional as F\n",
    "import matplotlib.pyplot as plt\n",
    "from torch.utils.data import DataLoader\n",
    "from torchvision.datasets import FashionMNIST\n",
    "from torchvision import transforms as T\n",
    "from sklearn.linear_model import LogisticRegression\n",
    "from sklearn.metrics import accuracy_score\n",
    "\n",
    "from representation_learning.augment import get_augment\n",
    "from representation_learning.compute_embeddings import compute_embeddings\n",
    "from representation_learning.loss import simclr_loss\n",
    "from representation_learning.train import train\n",
    "from representation_learning.model_makers import create_encoder, create_projection_head\n",
    "from representation_learning.view_transform import ViewTransform"
   ]
  },
  {
   "cell_type": "markdown",
   "metadata": {},
   "source": [
    "### Device"
   ]
  },
  {
   "cell_type": "code",
   "execution_count": null,
   "metadata": {},
   "outputs": [],
   "source": [
    "device = 'cpu'"
   ]
  },
  {
   "cell_type": "markdown",
   "metadata": {},
   "source": [
    "### Load Data"
   ]
  },
  {
   "cell_type": "code",
   "execution_count": null,
   "metadata": {},
   "outputs": [],
   "source": [
    "data_root = './data'\n",
    "train_dataset = FashionMNIST(data_root, train=True, \n",
    "                             download=True, transform=T.ToTensor())\n",
    "test_dataset = FashionMNIST(data_root, train=False, \n",
    "                            download=True, transform=T.ToTensor())"
   ]
  },
  {
   "cell_type": "code",
   "execution_count": null,
   "metadata": {},
   "outputs": [],
   "source": [
    "h, w = 5, 10\n",
    "fig, ax = plt.subplots(h, w)\n",
    "fig.set_size_inches((w, h))\n",
    "ax = ax.ravel()\n",
    "for i in range(h * w):\n",
    "    img, label = train_dataset[i]\n",
    "    ax[i].imshow(torch.permute(img, (1, 2, 0)), cmap='gray')\n",
    "    ax[i].axis('off')\n",
    "plt.show()"
   ]
  },
  {
   "cell_type": "markdown",
   "metadata": {},
   "source": [
    "### Create Encoder and Projection Head"
   ]
  },
  {
   "cell_type": "code",
   "execution_count": null,
   "metadata": {},
   "outputs": [],
   "source": [
    "encoder = create_encoder()\n",
    "projection_head = create_projection_head()"
   ]
  },
  {
   "cell_type": "markdown",
   "metadata": {},
   "source": [
    "### Test SimCLR Loss Function\n",
    "\n",
    "\\begin{aligned}\n",
    "\\mathcal{L} = -\\frac{1}{N} \\sum_{i, j \\in MB} \\log\\frac{\\exp\\left(\\text{sim}\\left(\\mathbf{z}_{i}, \\mathbf{z}_{j}\\right)/\\tau\\right)}{\\sum^{2N}_{k=1} 1_{[k\\neq{i}]}\\exp\\left(\\text{sim}\\left(\\mathbf{z}_{i}, \\mathbf{z}_{k}\\right)/\\tau\\right)}\n",
    "\\end{aligned}\n",
    "\n",
    "where $z_i$, $z_j$ are hidden representations of two augmented views of the same example; $\\text{sim}(u, v) = \\frac{u^T v}{\\lVert u \\rVert \\lVert v \\rVert}$ is the cosine similarity between two vectors. $\\tau$ is a temperature scalar and MB is a randomly sampled mini-batch consisting of augmented pairs of images. "
   ]
  },
  {
   "cell_type": "code",
   "execution_count": null,
   "metadata": {},
   "outputs": [],
   "source": [
    "torch.manual_seed(0)\n",
    "z1 = torch.rand(size=(1024, 32)) - 0.5\n",
    "z2 = torch.rand(size=(1024, 32)) - 0.5\n",
    "\n",
    "random_loss = simclr_loss(z1, z2).item()\n",
    "print('random loss', random_loss)\n",
    "\n",
    "loss = simclr_loss(z1, z1).item()\n",
    "print('views matching exactly', loss)"
   ]
  },
  {
   "cell_type": "markdown",
   "metadata": {},
   "source": [
    "### Make Augmentation Transform"
   ]
  },
  {
   "cell_type": "code",
   "execution_count": null,
   "metadata": {},
   "outputs": [],
   "source": [
    "augment = get_augment()"
   ]
  },
  {
   "cell_type": "code",
   "execution_count": null,
   "metadata": {},
   "outputs": [],
   "source": [
    "train_dataset.transform = ViewTransform()"
   ]
  },
  {
   "cell_type": "markdown",
   "metadata": {},
   "source": [
    "### Test Augment"
   ]
  },
  {
   "cell_type": "code",
   "execution_count": null,
   "metadata": {},
   "outputs": [],
   "source": [
    "torch.manual_seed(0)\n",
    "random.seed(0)\n",
    "\n",
    "(x1, x2), y = train_dataset[0]\n",
    "fig, ax = plt.subplots(1, 2)\n",
    "ax[0].imshow(x1[0], cmap='gray')\n",
    "ax[0].set_title('View 1')\n",
    "ax[0].axis('off')\n",
    "ax[1].imshow(x2[0], cmap='gray')\n",
    "ax[1].set_title('View 2')\n",
    "ax[1].axis('off')\n",
    "plt.show()"
   ]
  },
  {
   "cell_type": "markdown",
   "metadata": {},
   "source": [
    "### Run the Training"
   ]
  },
  {
   "cell_type": "code",
   "execution_count": null,
   "metadata": {},
   "outputs": [],
   "source": [
    "train_loader = DataLoader(train_dataset, batch_size=1024, shuffle=True)\n",
    "encoder = train(train_loader)"
   ]
  },
  {
   "cell_type": "markdown",
   "metadata": {},
   "source": [
    "### Train a Linear Classifier on Top of the Encoder"
   ]
  },
  {
   "cell_type": "code",
   "execution_count": null,
   "metadata": {},
   "outputs": [],
   "source": [
    "transform = T.Compose([T.ToTensor(), T.Normalize((0.5,), (0.5,))])\n",
    "train_eval = FashionMNIST(data_root, train=True, \n",
    "                         download=True, transform=transform)\n",
    "test_eval = FashionMNIST(data_root, train=False,\n",
    "                         download=True, transform=transform)"
   ]
  },
  {
   "cell_type": "code",
   "execution_count": null,
   "metadata": {},
   "outputs": [],
   "source": [
    "for k in [0, 4]:\n",
    "    encoder = create_encoder()\n",
    "    encoder.load_state_dict(torch.load(f'models/model_{k}.pt'))\n",
    "    encoder.eval()\n",
    "\n",
    "    xtrain, ytrain = compute_embeddings(train_eval, encoder, device)\n",
    "    xtest, ytest = compute_embeddings(test_eval, encoder, device)\n",
    "\n",
    "    clf = LogisticRegression(random_state=0, max_iter=1000, C=0.3)\n",
    "    clf.fit(xtrain, ytrain)\n",
    "    ypred = clf.predict(xtest)\n",
    "    acc = accuracy_score(ytest, ypred)\n",
    "    print(f\"Accuracy: {acc}\")"
   ]
  }
 ],
 "metadata": {
  "language_info": {
   "name": "python"
  },
  "orig_nbformat": 4
 },
 "nbformat": 4,
 "nbformat_minor": 2
}
